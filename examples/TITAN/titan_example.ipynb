{
 "cells": [
  {
   "cell_type": "code",
   "execution_count": 30,
   "id": "9799d35c",
   "metadata": {},
   "outputs": [],
   "source": [
    "%load_ext autoreload\n",
    "%autoreload 2"
   ]
  },
  {
   "cell_type": "code",
   "execution_count": 49,
   "id": "5197e5ef",
   "metadata": {},
   "outputs": [],
   "source": [
    "from dante.latent_features.extractor import ModelFeatureExtractor\n",
    "from data_loading import PrepareTitan\n",
    "\n",
    "import os\n",
    "import torch\n",
    "from tqdm.auto import tqdm\n",
    "import numpy as np\n",
    "import seaborn as sns\n",
    "import matplotlib.pyplot as plt"
   ]
  },
  {
   "cell_type": "markdown",
   "id": "b3578d3f",
   "metadata": {},
   "source": [
    "# Prepare data and model"
   ]
  },
  {
   "cell_type": "markdown",
   "id": "cc481916",
   "metadata": {},
   "source": [
    "```titan_data_dir``` should correspond to the path where data from https://ibm.box.com/v/titan-dataset is stored."
   ]
  },
  {
   "cell_type": "code",
   "execution_count": 2,
   "id": "c305bac5",
   "metadata": {},
   "outputs": [],
   "source": [
    "titan_data_dir = 'titan_data'\n",
    "model_dir = os.path.join(titan_data_dir, 'trained_model')"
   ]
  },
  {
   "cell_type": "code",
   "execution_count": 3,
   "id": "952d5467",
   "metadata": {},
   "outputs": [],
   "source": [
    "titan = PrepareTitan(model_path=model_dir)"
   ]
  },
  {
   "cell_type": "code",
   "execution_count": 4,
   "id": "581e7e53",
   "metadata": {},
   "outputs": [
    {
     "name": "stdout",
     "output_type": "stream",
     "text": [
      "ERROR:pytoda.datasets.smiles_dataset:Since you provided a smiles_language, the following parameters to this class will be ignored: canonical, augment, kekulize, all_bonds_explicit, selfies, sanitize, all_hs_explicit, remove_bonddir, remove_chirality, randomize, add_start_and_stop, padding, padding_length, device.\n",
      "Here are the problems:\n",
      "ERROR:pytoda.datasets.smiles_dataset:Provided arg canonical:True does not match the smiles_language value: False NOTE: smiles_language value takes preference!!\n",
      "ERROR:pytoda.datasets.smiles_dataset:Provided arg add_start_and_stop:True does not match the smiles_language value: False NOTE: smiles_language value takes preference!!\n",
      "ERROR:pytoda.datasets.smiles_dataset:Provided arg padding:True does not match the smiles_language value: False NOTE: smiles_language value takes preference!!\n",
      "ERROR:pytoda.datasets.smiles_dataset:Provided arg padding_length:500 does not match the smiles_language value: None NOTE: smiles_language value takes preference!!\n",
      "ERROR:pytoda.datasets.smiles_dataset:To get rid of this, adapt the smiles_language *offline*, feed itready for intended usage, and adapt the constructor args to be identical with their equivalents in the language object\n",
      "ERROR:pytoda.datasets.smiles_dataset:Since you provided a smiles_language, the following parameters to this class will be ignored: canonical, augment, kekulize, all_bonds_explicit, selfies, sanitize, all_hs_explicit, remove_bonddir, remove_chirality, randomize, add_start_and_stop, padding, padding_length, device.\n",
      "Here are the problems:\n",
      "ERROR:pytoda.datasets.smiles_dataset:Provided arg canonical:True does not match the smiles_language value: False NOTE: smiles_language value takes preference!!\n",
      "ERROR:pytoda.datasets.smiles_dataset:Provided arg add_start_and_stop:True does not match the smiles_language value: False NOTE: smiles_language value takes preference!!\n",
      "ERROR:pytoda.datasets.smiles_dataset:Provided arg padding:True does not match the smiles_language value: False NOTE: smiles_language value takes preference!!\n",
      "ERROR:pytoda.datasets.smiles_dataset:Provided arg padding_length:500 does not match the smiles_language value: None NOTE: smiles_language value takes preference!!\n",
      "ERROR:pytoda.datasets.smiles_dataset:To get rid of this, adapt the smiles_language *offline*, feed itready for intended usage, and adapt the constructor args to be identical with their equivalents in the language object\n"
     ]
    }
   ],
   "source": [
    "train_loader = titan.get_data(\n",
    "    test=False,\n",
    "    affinity_filepath=os.path.join(titan_data_dir, 'trained_model_train.csv'),\n",
    "    receptor_filepath=os.path.join(titan_data_dir, 'tcr_full.csv'),\n",
    "    ligand_filepath=os.path.join(titan_data_dir, 'epitopes.smi')\n",
    ")\n",
    "\n",
    "test_loader = titan.get_data(\n",
    "    test=True,\n",
    "    affinity_filepath=os.path.join(titan_data_dir, 'trained_model_test.csv'),\n",
    "    receptor_filepath=os.path.join(titan_data_dir, 'tcr_full.csv'),\n",
    "    ligand_filepath=os.path.join(titan_data_dir, 'epitopes.smi')\n",
    ")\n",
    "\n",
    "# Load model\n",
    "model = titan.get_model()\n",
    "model.cuda()\n",
    "model.eval();"
   ]
  },
  {
   "cell_type": "markdown",
   "id": "d0e7a76a",
   "metadata": {},
   "source": [
    "# Extract hidden activations"
   ]
  },
  {
   "cell_type": "markdown",
   "id": "1f74dc6a",
   "metadata": {},
   "source": [
    "To choose a layer indicate the full submodule list that can be explored calling ```model```."
   ]
  },
  {
   "cell_type": "code",
   "execution_count": 5,
   "id": "f58e0100",
   "metadata": {},
   "outputs": [],
   "source": [
    "submodules_list = ['dense_layers', 'dense_2']"
   ]
  },
  {
   "cell_type": "markdown",
   "id": "74ff4ce1",
   "metadata": {},
   "source": [
    "Override ```batch_to_input``` to indicate which part of the batch contains the model's input."
   ]
  },
  {
   "cell_type": "code",
   "execution_count": 8,
   "id": "596095ae",
   "metadata": {},
   "outputs": [],
   "source": [
    "class TitanExtractor(ModelFeatureExtractor):\n",
    "    \n",
    "    def batch_to_input(self, batch):\n",
    "        \n",
    "        l, r, y = batch\n",
    "        \n",
    "        return l, r"
   ]
  },
  {
   "cell_type": "markdown",
   "id": "affcf494",
   "metadata": {},
   "source": [
    "- Extract features from the given model ```model```, for each instance in ```train_loader``` or ```test_loader```.\n",
    "- The output will be stored in the ```out_dir``` ```output```, that should be either created if non-existing or replaced by another path."
   ]
  },
  {
   "cell_type": "code",
   "execution_count": 11,
   "id": "92df5149",
   "metadata": {},
   "outputs": [],
   "source": [
    "train_latent_features = TitanExtractor(\n",
    "    model = model, \n",
    "    dataloader = (train_loader, 'train'), \n",
    "    submodules_list = submodules_list,\n",
    "    model_name = 'prova14',\n",
    "    out_dir = './output'\n",
    ").run()"
   ]
  },
  {
   "cell_type": "code",
   "execution_count": 13,
   "id": "8e9b3abb",
   "metadata": {},
   "outputs": [
    {
     "data": {
      "text/plain": [
       "torch.Size([44800, 512])"
      ]
     },
     "execution_count": 13,
     "metadata": {},
     "output_type": "execute_result"
    }
   ],
   "source": [
    "train_latent_features.shape"
   ]
  },
  {
   "cell_type": "code",
   "execution_count": 12,
   "id": "07d5250e",
   "metadata": {},
   "outputs": [],
   "source": [
    "test_latent_features = TitanExtractor(\n",
    "    model = model, \n",
    "    dataloader = (test_loader, 'test'), \n",
    "    submodules_list = submodules_list,\n",
    "    model_name = 'prova14',\n",
    "    out_dir = './output'\n",
    ").run()"
   ]
  },
  {
   "cell_type": "code",
   "execution_count": 14,
   "id": "63b03c5b",
   "metadata": {},
   "outputs": [
    {
     "data": {
      "text/plain": [
       "torch.Size([2304, 512])"
      ]
     },
     "execution_count": 14,
     "metadata": {},
     "output_type": "execute_result"
    }
   ],
   "source": [
    "test_latent_features.shape"
   ]
  },
  {
   "cell_type": "markdown",
   "id": "a0bcabd2",
   "metadata": {},
   "source": [
    "# Save prediction (aleatoric) uncertainty and true labels"
   ]
  },
  {
   "cell_type": "code",
   "execution_count": 21,
   "id": "f2d173aa",
   "metadata": {},
   "outputs": [],
   "source": [
    "def extract_y_hat_true(model, data_loader):\n",
    "    \n",
    "    y_true = []\n",
    "    y_hat = []\n",
    "\n",
    "    for l, r, batch_y_true in tqdm(data_loader):\n",
    "\n",
    "        batch_y_true = batch_y_true.cpu()\n",
    "        batch_y_true = batch_y_true.flatten()\n",
    "        y_true.append(batch_y_true)\n",
    "\n",
    "        with torch.no_grad():\n",
    "            batch_y_hat, _ = model(l, r)\n",
    "\n",
    "        batch_y_hat = batch_y_hat.cpu()\n",
    "        batch_y_hat = batch_y_hat.flatten()\n",
    "        y_hat.append(batch_y_hat)\n",
    "\n",
    "    y_hat = torch.cat(y_hat)\n",
    "    y_true = torch.cat(y_true)\n",
    "    \n",
    "    return y_hat, y_true"
   ]
  },
  {
   "cell_type": "code",
   "execution_count": 22,
   "id": "729537d8",
   "metadata": {},
   "outputs": [
    {
     "data": {
      "application/vnd.jupyter.widget-view+json": {
       "model_id": "532a9e912c69410f93b612d479c07e71",
       "version_major": 2,
       "version_minor": 0
      },
      "text/plain": [
       "  0%|          | 0/350 [00:00<?, ?it/s]"
      ]
     },
     "metadata": {},
     "output_type": "display_data"
    },
    {
     "data": {
      "application/vnd.jupyter.widget-view+json": {
       "model_id": "f306e7ebe58c4ec4be15a181ad3f89f6",
       "version_major": 2,
       "version_minor": 0
      },
      "text/plain": [
       "  0%|          | 0/18 [00:00<?, ?it/s]"
      ]
     },
     "metadata": {},
     "output_type": "display_data"
    }
   ],
   "source": [
    "y_train_hat, y_train_true = extract_y_hat_true(model, train_loader)\n",
    "y_test_hat, y_test_true = extract_y_hat_true(model, test_loader)"
   ]
  },
  {
   "cell_type": "code",
   "execution_count": 45,
   "id": "212cf946",
   "metadata": {},
   "outputs": [],
   "source": [
    "def aleatoric_uncertainty(prediction_proba):\n",
    "    return -(np.log2(prediction_proba) * prediction_proba + np.log2(1-prediction_proba) * (1-prediction_proba))"
   ]
  },
  {
   "cell_type": "code",
   "execution_count": 50,
   "id": "43d565a3",
   "metadata": {},
   "outputs": [],
   "source": [
    "entropy_test = aleatoric_uncertainty(y_test_hat)"
   ]
  },
  {
   "cell_type": "code",
   "execution_count": 54,
   "id": "324e85b5",
   "metadata": {},
   "outputs": [
    {
     "data": {
      "image/png": "[encoded data removed]",
      "text/plain": [
       "<Figure size 432x288 with 1 Axes>"
      ]
     },
     "metadata": {
      "needs_background": "light"
     },
     "output_type": "display_data"
    }
   ],
   "source": [
    "sns.scatterplot(x=y_test_hat, y=entropy_test)\n",
    "plt.xlabel(\"Prediction probability\")\n",
    "plt.ylabel(\"Aleatoric uncertainty\");"
   ]
  },
  {
   "cell_type": "markdown",
   "id": "7d2e4309",
   "metadata": {},
   "source": [
    "# Extract Epistemic Uncertainty"
   ]
  },
  {
   "cell_type": "markdown",
   "id": "24bd0f04",
   "metadata": {},
   "source": [
    "## Mahalanobis"
   ]
  },
  {
   "cell_type": "code",
   "execution_count": 36,
   "id": "6da6799c",
   "metadata": {},
   "outputs": [],
   "source": [
    "from dante.layer_scoring.mahalanobis import Mahalanobis\n",
    "\n",
    "maha = Mahalanobis().fit(\n",
    "    train_latent_features.numpy(), \n",
    "    y_train_true.numpy())\n",
    "\n",
    "maha_scores = -maha.score(test_latent_features.numpy())"
   ]
  },
  {
   "cell_type": "markdown",
   "id": "be1a3f04",
   "metadata": {},
   "source": [
    "## Aklpe"
   ]
  },
  {
   "cell_type": "code",
   "execution_count": null,
   "id": "94a15a72",
   "metadata": {},
   "outputs": [],
   "source": [
    "pip install pynndescent"
   ]
  },
  {
   "cell_type": "code",
   "execution_count": 42,
   "id": "93342648",
   "metadata": {},
   "outputs": [],
   "source": [
    "from dante.layer_scoring.aklpe import Aklpe\n",
    "from dante.nearest_neighbors.pynndescent import NearestNeighbors\n",
    "\n",
    "nn = NearestNeighbors\n",
    "\n",
    "aklpe = Aklpe(\n",
    "    nearest_neighbors = nn,\n",
    "    n_neighbors=50, \n",
    "    n_bootstraps=1)\n",
    "\n",
    "aklpe.fit(train_latent_features.numpy())\n",
    "\n",
    "aklpe_scores, aklpe_pvals = aklpe.score(test_latent_features.numpy())"
   ]
  },
  {
   "cell_type": "markdown",
   "id": "23fea829",
   "metadata": {},
   "source": [
    "# Plotting"
   ]
  },
  {
   "cell_type": "code",
   "execution_count": 44,
   "id": "3c44d8af",
   "metadata": {},
   "outputs": [],
   "source": [
    "import seaborn as sns"
   ]
  },
  {
   "cell_type": "code",
   "execution_count": 57,
   "id": "fa1b8a78",
   "metadata": {},
   "outputs": [
    {
     "data": {
      "image/png": "[encoded data removed]",
      "text/plain": [
       "<Figure size 432x288 with 1 Axes>"
      ]
     },
     "metadata": {
      "needs_background": "light"
     },
     "output_type": "display_data"
    }
   ],
   "source": [
    "sns.scatterplot(x=aklpe_scores, y=entropy_test)\n",
    "plt.xlabel(\"Epistemic uncertainty\")\n",
    "plt.ylabel(\"Aleatoric uncertainty\");"
   ]
  },
  {
   "cell_type": "code",
   "execution_count": null,
   "id": "51903158",
   "metadata": {},
   "outputs": [],
   "source": []
  }
 ],
 "metadata": {
  "kernelspec": {
   "display_name": "venv",
   "language": "python",
   "name": "venv"
  },
  "language_info": {
   "codemirror_mode": {
    "name": "ipython",
    "version": 3
   },
   "file_extension": ".py",
   "mimetype": "text/x-python",
   "name": "python",
   "nbconvert_exporter": "python",
   "pygments_lexer": "ipython3",
   "version": "3.7.11"
  }
 },
 "nbformat": 4,
 "nbformat_minor": 5
}
