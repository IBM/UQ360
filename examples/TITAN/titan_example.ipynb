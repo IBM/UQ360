{
 "cells": [
  {
   "cell_type": "code",
   "execution_count": 1,
   "id": "9799d35c",
   "metadata": {},
   "outputs": [],
   "source": [
    "%load_ext autoreload\n",
    "%autoreload 2"
   ]
  },
  {
   "cell_type": "code",
   "execution_count": 2,
   "id": "5197e5ef",
   "metadata": {},
   "outputs": [
    {
     "name": "stdout",
     "output_type": "stream",
     "text": [
      "True\n"
     ]
    }
   ],
   "source": [
    "from dante.latent_features.extractor import ModelFeatureExtractor\n",
    "from data_loading import PrepareTitan\n",
    "\n",
    "import os\n",
    "import torch\n",
    "from tqdm.auto import tqdm\n",
    "import numpy as np\n",
    "import seaborn as sns\n",
    "import matplotlib.pyplot as plt\n",
    "\n",
    "print(torch.cuda.is_available())"
   ]
  },
  {
   "cell_type": "markdown",
   "id": "b3578d3f",
   "metadata": {},
   "source": [
    "# Prepare data and model"
   ]
  },
  {
   "cell_type": "markdown",
   "id": "cc481916",
   "metadata": {},
   "source": [
    "```titan_data_dir``` should correspond to the path where data from https://ibm.box.com/v/titan-dataset is stored."
   ]
  },
  {
   "cell_type": "code",
   "execution_count": 3,
   "id": "c305bac5",
   "metadata": {},
   "outputs": [],
   "source": [
    "titan_data_dir = '/u/shuaijun/DANTE/titan_dataset'\n",
    "model_dir = os.path.join(titan_data_dir, 'trained_model')"
   ]
  },
  {
   "cell_type": "code",
   "execution_count": 4,
   "id": "952d5467",
   "metadata": {},
   "outputs": [
    {
     "ename": "NameError",
     "evalue": "name 'protain_language' is not defined",
     "output_type": "error",
     "traceback": [
      "\u001b[0;31m---------------------------------------------------------------------------\u001b[0m",
      "\u001b[0;31mNameError\u001b[0m                                 Traceback (most recent call last)",
      "Input \u001b[0;32mIn [4]\u001b[0m, in \u001b[0;36m<cell line: 1>\u001b[0;34m()\u001b[0m\n\u001b[0;32m----> 1\u001b[0m titan \u001b[38;5;241m=\u001b[39m \u001b[43mPrepareTitan\u001b[49m\u001b[43m(\u001b[49m\u001b[43mmodel_path\u001b[49m\u001b[38;5;241;43m=\u001b[39;49m\u001b[43mmodel_dir\u001b[49m\u001b[43m)\u001b[49m\n",
      "File \u001b[0;32m~/DANTE/examples/TITAN/data_loading.py:30\u001b[0m, in \u001b[0;36mPrepareTitan.__init__\u001b[0;34m(self, model_path, logging_level)\u001b[0m\n\u001b[1;32m     26\u001b[0m \u001b[38;5;28mself\u001b[39m\u001b[38;5;241m.\u001b[39m_process_params()\n\u001b[1;32m     28\u001b[0m \u001b[38;5;28mself\u001b[39m\u001b[38;5;241m.\u001b[39mdevice \u001b[38;5;241m=\u001b[39m get_device()\n\u001b[0;32m---> 30\u001b[0m \u001b[38;5;28;43mself\u001b[39;49m\u001b[38;5;241;43m.\u001b[39;49m\u001b[43m_load_languages\u001b[49m\u001b[43m(\u001b[49m\u001b[43m)\u001b[49m\n",
      "File \u001b[0;32m~/DANTE/examples/TITAN/data_loading.py:83\u001b[0m, in \u001b[0;36mPrepareTitan._load_languages\u001b[0;34m(self, test)\u001b[0m\n\u001b[1;32m     79\u001b[0m \u001b[38;5;28;01mif\u001b[39;00m \u001b[38;5;28mself\u001b[39m\u001b[38;5;241m.\u001b[39mparams\u001b[38;5;241m.\u001b[39mget(\u001b[38;5;124m'\u001b[39m\u001b[38;5;124mreceptor_embedding\u001b[39m\u001b[38;5;124m'\u001b[39m, \u001b[38;5;124m'\u001b[39m\u001b[38;5;124mlearned\u001b[39m\u001b[38;5;124m'\u001b[39m) \u001b[38;5;241m==\u001b[39m \u001b[38;5;124m'\u001b[39m\u001b[38;5;124mpredefined\u001b[39m\u001b[38;5;124m'\u001b[39m:\n\u001b[1;32m     80\u001b[0m     protein_language \u001b[38;5;241m=\u001b[39m ProteinFeatureLanguage(\n\u001b[1;32m     81\u001b[0m         features\u001b[38;5;241m=\u001b[39m\u001b[38;5;28mself\u001b[39m\u001b[38;5;241m.\u001b[39mparams\u001b[38;5;241m.\u001b[39mget(\u001b[38;5;124m'\u001b[39m\u001b[38;5;124mpredefined_embedding\u001b[39m\u001b[38;5;124m'\u001b[39m, \u001b[38;5;124m'\u001b[39m\u001b[38;5;124mblosum\u001b[39m\u001b[38;5;124m'\u001b[39m)\n\u001b[1;32m     82\u001b[0m     )\n\u001b[0;32m---> 83\u001b[0m     \u001b[38;5;28mprint\u001b[39m(\u001b[43mprotain_language\u001b[49m)\n\u001b[1;32m     84\u001b[0m \u001b[38;5;28;01melse\u001b[39;00m:\n\u001b[1;32m     85\u001b[0m     protein_language \u001b[38;5;241m=\u001b[39m ProteinLanguage()\n",
      "\u001b[0;31mNameError\u001b[0m: name 'protain_language' is not defined"
     ]
    }
   ],
   "source": [
    "titan = PrepareTitan(model_path=model_dir)"
   ]
  },
  {
   "cell_type": "code",
   "execution_count": null,
   "id": "581e7e53",
   "metadata": {},
   "outputs": [],
   "source": [
    "train_loader = titan.get_data(\n",
    "    test=False,\n",
    "    affinity_filepath=os.path.join(titan_data_dir, 'trained_model_train.csv'),\n",
    "    receptor_filepath=os.path.join(titan_data_dir, 'tcr_full.csv'),\n",
    "    ligand_filepath=os.path.join(titan_data_dir, 'epitopes.smi')\n",
    ")\n",
    "\n",
    "test_loader = titan.get_data(\n",
    "    test=True,\n",
    "    affinity_filepath=os.path.join(titan_data_dir, 'trained_model_test.csv'),\n",
    "    receptor_filepath=os.path.join(titan_data_dir, 'tcr_full.csv'),\n",
    "    ligand_filepath=os.path.join(titan_data_dir, 'epitopes.smi')\n",
    ")\n",
    "\n",
    "# Load model\n",
    "model = titan.get_model()\n",
    "model.cuda()\n",
    "model.eval();"
   ]
  },
  {
   "cell_type": "markdown",
   "id": "d0e7a76a",
   "metadata": {},
   "source": [
    "# Extract hidden activations"
   ]
  },
  {
   "cell_type": "markdown",
   "id": "1f74dc6a",
   "metadata": {},
   "source": [
    "To choose a layer indicate the full submodule list that can be explored calling ```model```."
   ]
  },
  {
   "cell_type": "code",
   "execution_count": 6,
   "id": "f58e0100",
   "metadata": {},
   "outputs": [],
   "source": [
    "submodules_list = ['dense_layers', 'dense_2']"
   ]
  },
  {
   "cell_type": "markdown",
   "id": "74ff4ce1",
   "metadata": {},
   "source": [
    "Override ```batch_to_input``` to indicate which part of the batch contains the model's input."
   ]
  },
  {
   "cell_type": "code",
   "execution_count": 7,
   "id": "596095ae",
   "metadata": {},
   "outputs": [],
   "source": [
    "class TitanExtractor(ModelFeatureExtractor):\n",
    "    \n",
    "    def batch_to_input(self, batch):\n",
    "        \n",
    "        l, r, y = batch\n",
    "        \n",
    "        return l, r"
   ]
  },
  {
   "cell_type": "markdown",
   "id": "affcf494",
   "metadata": {},
   "source": [
    "- Extract features from the given model ```model```, for each instance in ```train_loader``` or ```test_loader```.\n",
    "- The output will be stored in the ```out_dir``` ```output```, that should be either created if non-existing or replaced by another path."
   ]
  },
  {
   "cell_type": "code",
   "execution_count": 8,
   "id": "92df5149",
   "metadata": {},
   "outputs": [
    {
     "name": "stdout",
     "output_type": "stream",
     "text": [
      "['data_loading.py', 'output', '.ipynb_checkpoints', 'TITAN_EXAMPLE.md', 'titan_example.ipynb', '__pycache__']\n"
     ]
    }
   ],
   "source": [
    "print(os.listdir())\n",
    "train_latent_features = TitanExtractor(\n",
    "    model = model, \n",
    "    dataloader = (train_loader, 'train'), \n",
    "    submodules_list = submodules_list,\n",
    "    model_name = 'prova14',\n",
    "    out_dir = './output'\n",
    ").run()"
   ]
  },
  {
   "cell_type": "code",
   "execution_count": 9,
   "id": "8e9b3abb",
   "metadata": {},
   "outputs": [
    {
     "data": {
      "text/plain": [
       "torch.Size([44800, 512])"
      ]
     },
     "execution_count": 9,
     "metadata": {},
     "output_type": "execute_result"
    }
   ],
   "source": [
    "train_latent_features.shape"
   ]
  },
  {
   "cell_type": "code",
   "execution_count": 10,
   "id": "07d5250e",
   "metadata": {},
   "outputs": [],
   "source": [
    "test_latent_features = TitanExtractor(\n",
    "    model = model, \n",
    "    dataloader = (test_loader, 'test'), \n",
    "    submodules_list = submodules_list,\n",
    "    model_name = 'prova14',\n",
    "    out_dir = './output'\n",
    ").run()"
   ]
  },
  {
   "cell_type": "code",
   "execution_count": 11,
   "id": "63b03c5b",
   "metadata": {},
   "outputs": [
    {
     "data": {
      "text/plain": [
       "torch.Size([2304, 512])"
      ]
     },
     "execution_count": 11,
     "metadata": {},
     "output_type": "execute_result"
    }
   ],
   "source": [
    "test_latent_features.shape"
   ]
  },
  {
   "cell_type": "markdown",
   "id": "a0bcabd2",
   "metadata": {},
   "source": [
    "# Save prediction (aleatoric) uncertainty and true labels"
   ]
  },
  {
   "cell_type": "code",
   "execution_count": 12,
   "id": "f2d173aa",
   "metadata": {},
   "outputs": [],
   "source": [
    "def extract_y_hat_true(model, data_loader):\n",
    "    \n",
    "    y_true = []\n",
    "    y_hat = []\n",
    "\n",
    "    for l, r, batch_y_true in tqdm(data_loader):\n",
    "\n",
    "        batch_y_true = batch_y_true.cpu()\n",
    "        batch_y_true = batch_y_true.flatten()\n",
    "        y_true.append(batch_y_true)\n",
    "\n",
    "        with torch.no_grad():\n",
    "            batch_y_hat, _ = model(l, r)\n",
    "\n",
    "        batch_y_hat = batch_y_hat.cpu()\n",
    "        batch_y_hat = batch_y_hat.flatten()\n",
    "        y_hat.append(batch_y_hat)\n",
    "\n",
    "    y_hat = torch.cat(y_hat)\n",
    "    y_true = torch.cat(y_true)\n",
    "    \n",
    "    return y_hat, y_true"
   ]
  },
  {
   "cell_type": "code",
   "execution_count": 13,
   "id": "729537d8",
   "metadata": {},
   "outputs": [
    {
     "data": {
      "application/vnd.jupyter.widget-view+json": {
       "model_id": "2565f824491a47319accccb124e99fc4",
       "version_major": 2,
       "version_minor": 0
      },
      "text/plain": [
       "  0%|          | 0/350 [00:00<?, ?it/s]"
      ]
     },
     "metadata": {},
     "output_type": "display_data"
    },
    {
     "data": {
      "application/vnd.jupyter.widget-view+json": {
       "model_id": "f2007bd827dc49e6be8feb1671a8959b",
       "version_major": 2,
       "version_minor": 0
      },
      "text/plain": [
       "  0%|          | 0/18 [00:00<?, ?it/s]"
      ]
     },
     "metadata": {},
     "output_type": "display_data"
    }
   ],
   "source": [
    "y_train_hat, y_train_true = extract_y_hat_true(model, train_loader)\n",
    "y_test_hat, y_test_true = extract_y_hat_true(model, test_loader)"
   ]
  },
  {
   "cell_type": "code",
   "execution_count": 30,
   "id": "004569fd",
   "metadata": {},
   "outputs": [
    {
     "data": {
      "text/plain": [
       "tensor(0.5003)"
      ]
     },
     "execution_count": 30,
     "metadata": {},
     "output_type": "execute_result"
    }
   ],
   "source": [
    "((y_train_hat > 0).int() == y_train_true).float().mean()"
   ]
  },
  {
   "cell_type": "code",
   "execution_count": 25,
   "id": "ed20acfe",
   "metadata": {},
   "outputs": [
    {
     "data": {
      "text/plain": [
       "tensor([1., 1., 1.,  ..., 0., 0., 0.])"
      ]
     },
     "execution_count": 25,
     "metadata": {},
     "output_type": "execute_result"
    }
   ],
   "source": []
  },
  {
   "cell_type": "code",
   "execution_count": 14,
   "id": "212cf946",
   "metadata": {},
   "outputs": [],
   "source": [
    "def aleatoric_uncertainty(prediction_proba):\n",
    "    return -(np.log2(prediction_proba) * prediction_proba + np.log2(1-prediction_proba) * (1-prediction_proba))"
   ]
  },
  {
   "cell_type": "code",
   "execution_count": 15,
   "id": "43d565a3",
   "metadata": {},
   "outputs": [],
   "source": [
    "entropy_test = aleatoric_uncertainty(y_test_hat)"
   ]
  },
  {
   "cell_type": "code",
   "execution_count": 21,
   "id": "9db91c29",
   "metadata": {},
   "outputs": [
    {
     "data": {
      "text/plain": [
       "['data_loading.py',\n",
       " 'output',\n",
       " '.ipynb_checkpoints',\n",
       " 'TITAN_EXAMPLE.md',\n",
       " 'titan_example.ipynb',\n",
       " '__pycache__']"
      ]
     },
     "execution_count": 21,
     "metadata": {},
     "output_type": "execute_result"
    }
   ],
   "source": [
    "import os \n",
    "os.listdir()"
   ]
  },
  {
   "cell_type": "code",
   "execution_count": 17,
   "id": "324e85b5",
   "metadata": {},
   "outputs": [
    {
     "data": {
      "image/png": "[encoded data removed]",
      "text/plain": [
       "<Figure size 432x288 with 1 Axes>"
      ]
     },
     "metadata": {
      "needs_background": "light"
     },
     "output_type": "display_data"
    }
   ],
   "source": [
    "sns.scatterplot(x=y_test_hat, y=entropy_test)\n",
    "plt.xlabel(\"Prediction probability\")\n",
    "plt.ylabel(\"Aleatoric uncertainty\");"
   ]
  },
  {
   "cell_type": "markdown",
   "id": "7d2e4309",
   "metadata": {},
   "source": [
    "# Extract Epistemic Uncertainty"
   ]
  },
  {
   "cell_type": "markdown",
   "id": "24bd0f04",
   "metadata": {},
   "source": [
    "## Mahalanobis"
   ]
  },
  {
   "cell_type": "code",
   "execution_count": 18,
   "id": "6da6799c",
   "metadata": {},
   "outputs": [],
   "source": [
    "from dante.layer_scoring.mahalanobis import Mahalanobis\n",
    "\n",
    "maha = Mahalanobis().fit(\n",
    "    train_latent_features.numpy(), \n",
    "    y_train_true.numpy())\n",
    "\n",
    "maha_scores = -maha.score(test_latent_features.numpy())"
   ]
  },
  {
   "cell_type": "markdown",
   "id": "be1a3f04",
   "metadata": {},
   "source": [
    "## Aklpe"
   ]
  },
  {
   "cell_type": "code",
   "execution_count": 19,
   "id": "94a15a72",
   "metadata": {},
   "outputs": [
    {
     "name": "stdout",
     "output_type": "stream",
     "text": [
      "Requirement already satisfied: pynndescent in /u/shuaijun/.conda/envs/tcr/lib/python3.8/site-packages (0.5.7)\n",
      "Requirement already satisfied: joblib>=0.11 in /u/shuaijun/.conda/envs/tcr/lib/python3.8/site-packages (from pynndescent) (1.1.0)\n",
      "Requirement already satisfied: scipy>=1.0 in /u/shuaijun/.conda/envs/tcr/lib/python3.8/site-packages (from pynndescent) (1.8.0)\n",
      "Requirement already satisfied: scikit-learn>=0.18 in /u/shuaijun/.conda/envs/tcr/lib/python3.8/site-packages (from pynndescent) (1.0.2)\n",
      "Requirement already satisfied: llvmlite>=0.30 in /u/shuaijun/.conda/envs/tcr/lib/python3.8/site-packages (from pynndescent) (0.38.0)\n",
      "Requirement already satisfied: numba>=0.51.2 in /u/shuaijun/.conda/envs/tcr/lib/python3.8/site-packages (from pynndescent) (0.55.1)\n",
      "Requirement already satisfied: numpy<1.22,>=1.18 in /u/shuaijun/.conda/envs/tcr/lib/python3.8/site-packages (from numba>=0.51.2->pynndescent) (1.21.6)\n",
      "Requirement already satisfied: setuptools in /u/shuaijun/.conda/envs/tcr/lib/python3.8/site-packages (from numba>=0.51.2->pynndescent) (61.2.0)\n",
      "Requirement already satisfied: threadpoolctl>=2.0.0 in /u/shuaijun/.conda/envs/tcr/lib/python3.8/site-packages (from scikit-learn>=0.18->pynndescent) (3.1.0)\n",
      "Note: you may need to restart the kernel to use updated packages.\n"
     ]
    }
   ],
   "source": [
    "pip install pynndescent"
   ]
  },
  {
   "cell_type": "code",
   "execution_count": 20,
   "id": "93342648",
   "metadata": {},
   "outputs": [
    {
     "ename": "KeyboardInterrupt",
     "evalue": "",
     "output_type": "error",
     "traceback": [
      "\u001b[0;31m---------------------------------------------------------------------------\u001b[0m",
      "\u001b[0;31mKeyboardInterrupt\u001b[0m                         Traceback (most recent call last)",
      "Input \u001b[0;32mIn [20]\u001b[0m, in \u001b[0;36m<cell line: 11>\u001b[0;34m()\u001b[0m\n\u001b[1;32m      4\u001b[0m nn \u001b[38;5;241m=\u001b[39m NearestNeighbors\n\u001b[1;32m      6\u001b[0m aklpe \u001b[38;5;241m=\u001b[39m Aklpe(\n\u001b[1;32m      7\u001b[0m     nearest_neighbors \u001b[38;5;241m=\u001b[39m nn,\n\u001b[1;32m      8\u001b[0m     n_neighbors\u001b[38;5;241m=\u001b[39m\u001b[38;5;241m50\u001b[39m, \n\u001b[1;32m      9\u001b[0m     n_bootstraps\u001b[38;5;241m=\u001b[39m\u001b[38;5;241m1\u001b[39m)\n\u001b[0;32m---> 11\u001b[0m \u001b[43maklpe\u001b[49m\u001b[38;5;241;43m.\u001b[39;49m\u001b[43mfit\u001b[49m\u001b[43m(\u001b[49m\u001b[43mtrain_latent_features\u001b[49m\u001b[38;5;241;43m.\u001b[39;49m\u001b[43mnumpy\u001b[49m\u001b[43m(\u001b[49m\u001b[43m)\u001b[49m\u001b[43m)\u001b[49m\n\u001b[1;32m     13\u001b[0m aklpe_scores, aklpe_pvals \u001b[38;5;241m=\u001b[39m aklpe\u001b[38;5;241m.\u001b[39mscore(test_latent_features\u001b[38;5;241m.\u001b[39mnumpy())\n",
      "File \u001b[0;32m~/DANTE/dante/layer_scoring/aklpe.py:44\u001b[0m, in \u001b[0;36mAklpe.fit\u001b[0;34m(self, X, y)\u001b[0m\n\u001b[1;32m     41\u001b[0m \u001b[38;5;28mself\u001b[39m\u001b[38;5;241m.\u001b[39m_fit_nearest_neighbors_bootstrap(X)\n\u001b[1;32m     43\u001b[0m \u001b[38;5;66;03m# Compute g_scores null distributions\u001b[39;00m\n\u001b[0;32m---> 44\u001b[0m \u001b[38;5;28mself\u001b[39m\u001b[38;5;241m.\u001b[39mnull_distribution \u001b[38;5;241m=\u001b[39m \u001b[38;5;28;43mself\u001b[39;49m\u001b[38;5;241;43m.\u001b[39;49m\u001b[43m_bootstrap\u001b[49m\u001b[43m(\u001b[49m\u001b[43mX\u001b[49m\u001b[43m)\u001b[49m\n\u001b[1;32m     46\u001b[0m \u001b[38;5;28;01mreturn\u001b[39;00m \u001b[38;5;28mself\u001b[39m\n",
      "File \u001b[0;32m~/DANTE/dante/layer_scoring/aklpe.py:124\u001b[0m, in \u001b[0;36mAklpe._bootstrap\u001b[0;34m(self, X)\u001b[0m\n\u001b[1;32m    120\u001b[0m \u001b[38;5;28;01mfor\u001b[39;00m idx, (s1, s2) \u001b[38;5;129;01min\u001b[39;00m \u001b[38;5;28menumerate\u001b[39m(\u001b[38;5;28mself\u001b[39m\u001b[38;5;241m.\u001b[39msplit_generator\u001b[38;5;241m.\u001b[39msplit(X)): \n\u001b[1;32m    122\u001b[0m     s1_nn, s2_nn \u001b[38;5;241m=\u001b[39m \u001b[38;5;28mself\u001b[39m\u001b[38;5;241m.\u001b[39mneigh_graphs[idx]\n\u001b[0;32m--> 124\u001b[0m     s1_g_stats \u001b[38;5;241m=\u001b[39m \u001b[38;5;28;43mself\u001b[39;49m\u001b[38;5;241;43m.\u001b[39;49m\u001b[43m_compute_g_statistic\u001b[49m\u001b[43m(\u001b[49m\u001b[43mX\u001b[49m\u001b[43m[\u001b[49m\u001b[43ms1\u001b[49m\u001b[43m]\u001b[49m\u001b[43m,\u001b[49m\u001b[43m \u001b[49m\u001b[43ms1_nn\u001b[49m\u001b[43m)\u001b[49m\n\u001b[1;32m    125\u001b[0m     s2_g_stats \u001b[38;5;241m=\u001b[39m \u001b[38;5;28mself\u001b[39m\u001b[38;5;241m.\u001b[39m_compute_g_statistic(X[s2], s2_nn)\n\u001b[1;32m    127\u001b[0m     split_g_stats \u001b[38;5;241m=\u001b[39m np\u001b[38;5;241m.\u001b[39mconcatenate([s1_g_stats, s2_g_stats])\n",
      "File \u001b[0;32m~/DANTE/dante/layer_scoring/aklpe.py:94\u001b[0m, in \u001b[0;36mAklpe._compute_g_statistic\u001b[0;34m(self, X, nearest_neighbors)\u001b[0m\n\u001b[1;32m     90\u001b[0m \u001b[38;5;28;01mfor\u001b[39;00m start_idx \u001b[38;5;129;01min\u001b[39;00m \u001b[38;5;28mrange\u001b[39m(\u001b[38;5;241m0\u001b[39m, \u001b[38;5;28mlen\u001b[39m(X), \u001b[38;5;28mself\u001b[39m\u001b[38;5;241m.\u001b[39mbatch_size):\n\u001b[1;32m     92\u001b[0m     batch \u001b[38;5;241m=\u001b[39m X[start_idx:start_idx\u001b[38;5;241m+\u001b[39m\u001b[38;5;28mself\u001b[39m\u001b[38;5;241m.\u001b[39mbatch_size]\n\u001b[0;32m---> 94\u001b[0m     g_stat \u001b[38;5;241m=\u001b[39m \u001b[38;5;28;43mself\u001b[39;49m\u001b[38;5;241;43m.\u001b[39;49m\u001b[43m_g_statistic\u001b[49m\u001b[43m(\u001b[49m\u001b[43mbatch\u001b[49m\u001b[43m,\u001b[49m\u001b[43m \u001b[49m\u001b[43mnearest_neighbors\u001b[49m\u001b[43m)\u001b[49m\n\u001b[1;32m     96\u001b[0m     scores\u001b[38;5;241m.\u001b[39mappend(g_stat)\n\u001b[1;32m     98\u001b[0m scores \u001b[38;5;241m=\u001b[39m np\u001b[38;5;241m.\u001b[39mconcatenate(scores)        \n",
      "File \u001b[0;32m~/DANTE/dante/layer_scoring/aklpe.py:74\u001b[0m, in \u001b[0;36mAklpe._g_statistic\u001b[0;34m(self, X, nearest_neighbors)\u001b[0m\n\u001b[1;32m     71\u001b[0m distances \u001b[38;5;241m=\u001b[39m []\n\u001b[1;32m     72\u001b[0m \u001b[38;5;28;01mfor\u001b[39;00m k \u001b[38;5;129;01min\u001b[39;00m \u001b[38;5;28mrange\u001b[39m(lower_k, upper_k):\n\u001b[0;32m---> 74\u001b[0m     dist, idxs \u001b[38;5;241m=\u001b[39m \u001b[43mnearest_neighbors\u001b[49m\u001b[38;5;241;43m.\u001b[39;49m\u001b[43mkneighbors\u001b[49m\u001b[43m(\u001b[49m\u001b[43mX\u001b[49m\u001b[43m,\u001b[49m\u001b[43m \u001b[49m\u001b[43mk\u001b[49m\u001b[43m)\u001b[49m\n\u001b[1;32m     76\u001b[0m     distances\u001b[38;5;241m.\u001b[39mappend(dist\u001b[38;5;241m.\u001b[39mmean(axis\u001b[38;5;241m=\u001b[39m\u001b[38;5;241m1\u001b[39m))\n\u001b[1;32m     78\u001b[0m distances \u001b[38;5;241m=\u001b[39m np\u001b[38;5;241m.\u001b[39mstack(distances)\u001b[38;5;241m.\u001b[39mT\n",
      "File \u001b[0;32m~/DANTE/dante/nearest_neighbors/pynndescent.py:15\u001b[0m, in \u001b[0;36mNearestNeighbors.kneighbors\u001b[0;34m(self, X, n_neighbors)\u001b[0m\n\u001b[1;32m     14\u001b[0m \u001b[38;5;28;01mdef\u001b[39;00m \u001b[38;5;21mkneighbors\u001b[39m(\u001b[38;5;28mself\u001b[39m, X, n_neighbors):\n\u001b[0;32m---> 15\u001b[0m     indices, distances \u001b[38;5;241m=\u001b[39m \u001b[38;5;28;43mself\u001b[39;49m\u001b[38;5;241;43m.\u001b[39;49m\u001b[43mindex\u001b[49m\u001b[38;5;241;43m.\u001b[39;49m\u001b[43mquery\u001b[49m\u001b[43m(\u001b[49m\u001b[43mX\u001b[49m\u001b[43m,\u001b[49m\u001b[43m \u001b[49m\u001b[43mn_neighbors\u001b[49m\u001b[43m)\u001b[49m\n\u001b[1;32m     17\u001b[0m     \u001b[38;5;28;01mreturn\u001b[39;00m distances, indices\n",
      "\u001b[0;31mKeyboardInterrupt\u001b[0m: "
     ]
    }
   ],
   "source": [
    "from dante.layer_scoring.aklpe import Aklpe\n",
    "from dante.nearest_neighbors.pynndescent import NearestNeighbors\n",
    "\n",
    "nn = NearestNeighbors\n",
    "\n",
    "aklpe = Aklpe(\n",
    "    nearest_neighbors = nn,\n",
    "    n_neighbors=50, \n",
    "    n_bootstraps=1)\n",
    "\n",
    "aklpe.fit(train_latent_features.numpy())\n",
    "\n",
    "aklpe_scores, aklpe_pvals = aklpe.score(test_latent_features.numpy())"
   ]
  },
  {
   "cell_type": "markdown",
   "id": "23fea829",
   "metadata": {},
   "source": [
    "# Plotting"
   ]
  },
  {
   "cell_type": "code",
   "execution_count": null,
   "id": "3c44d8af",
   "metadata": {},
   "outputs": [],
   "source": [
    "import seaborn as sns"
   ]
  },
  {
   "cell_type": "code",
   "execution_count": null,
   "id": "fa1b8a78",
   "metadata": {},
   "outputs": [],
   "source": [
    "sns.scatterplot(x=aklpe_scores, y=entropy_test)\n",
    "plt.xlabel(\"Epistemic uncertainty\")\n",
    "plt.ylabel(\"Aleatoric uncertainty\");"
   ]
  },
  {
   "cell_type": "code",
   "execution_count": null,
   "id": "51903158",
   "metadata": {},
   "outputs": [],
   "source": []
  }
 ],
 "metadata": {
  "kernelspec": {
   "display_name": "tcr_i",
   "language": "python",
   "name": "tcr_i"
  },
  "language_info": {
   "codemirror_mode": {
    "name": "ipython",
    "version": 3
   },
   "file_extension": ".py",
   "mimetype": "text/x-python",
   "name": "python",
   "nbconvert_exporter": "python",
   "pygments_lexer": "ipython3",
   "version": "3.8.13"
  }
 },
 "nbformat": 4,
 "nbformat_minor": 5
}
